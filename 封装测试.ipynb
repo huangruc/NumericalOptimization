{
 "cells": [
  {
   "cell_type": "markdown",
   "id": "94df9251-30b6-46ce-ba62-69f97bf29253",
   "metadata": {},
   "source": [
    "### 封装测试"
   ]
  },
  {
   "cell_type": "code",
   "execution_count": 1,
   "id": "ff8b7e9d-aa2e-46da-b95f-ed57ebbd7f63",
   "metadata": {},
   "outputs": [
    {
     "name": "stdout",
     "output_type": "stream",
     "text": [
      "watson value: 661.1528713481628\n",
      "grad of watson:\n",
      " [1190.93689778  726.83729381]\n",
      "hessian of watson:\n",
      " [[3556.28029625 1364.77280741]\n",
      " [1364.77280741  901.09773909]]\n"
     ]
    },
    {
     "data": {
      "image/png": "[encoded data removed]",
      "text/plain": [
       "<Figure size 500x500 with 1 Axes>"
      ]
     },
     "metadata": {
      "needs_background": "light"
     },
     "output_type": "display_data"
    }
   ],
   "source": [
    "from module import Watson,DiscreteBoundaryValue\n",
    "watson = Watson(31) \n",
    "print('watson value:',watson.calculate([1,2])) # 计算函数值\n",
    "print('grad of watson:\\n',watson.gradient([1,2])) # 计算梯度\n",
    "print('hessian of watson:\\n',watson.hessian([1,2])) # 计算Hessian矩阵\n",
    "watson.plot(x=[-10,10],y=[-10,10]) # 绘制二维图像"
   ]
  },
  {
   "cell_type": "code",
   "execution_count": 2,
   "id": "7ca6befc-39e2-415b-b910-e19e9c5512fe",
   "metadata": {},
   "outputs": [
    {
     "name": "stdout",
     "output_type": "stream",
     "text": [
      "discrete binary value: 33.430583075073244\n",
      "grad of discrete boundary value:\n",
      " [-7.37349489 47.26101204]\n",
      "hessian of discrete boundary value:\n",
      " [[1.66666667 0.        ]\n",
      " [0.         2.33333333]]\n"
     ]
    },
    {
     "data": {
      "image/png": "[encoded data removed]",
      "text/plain": [
       "<Figure size 500x500 with 1 Axes>"
      ]
     },
     "metadata": {
      "needs_background": "light"
     },
     "output_type": "display_data"
    }
   ],
   "source": [
    "dbv = DiscreteBoundaryValue(2)\n",
    "print('discrete binary value:',dbv.calculate([1,2])) # 计算函数值\n",
    "print('grad of discrete boundary value:\\n',dbv.gradient([1,2])) # 计算梯度\n",
    "print('hessian of discrete boundary value:\\n',dbv.hessian([1,2])) # 计算Hessian矩阵\n",
    "dbv.plot(x=[-12,10],y=[-12,10]) # 绘制二维图像"
   ]
  },
  {
   "cell_type": "markdown",
   "id": "5fddff86-e9bc-4b76-bb98-844605c20b23",
   "metadata": {},
   "source": [
    "#### 1.基本Newton法"
   ]
  },
  {
   "cell_type": "code",
   "execution_count": 4,
   "id": "302e8d7e-be44-4064-aec6-e86fc60c03e4",
   "metadata": {},
   "outputs": [
    {
     "name": "stdout",
     "output_type": "stream",
     "text": [
      "### Watson ###\n",
      "迭代结束-iter: 407  x: [-0.60101559  1.0893466 ]  loss: 0.33219668614111714\n",
      "\n",
      "### Discrete Boundary Value ###\n",
      "Warning: Hessian矩阵非正定！\n",
      "\t iter: 3  x: [-6.20291648  7.44040953]  loss: 4664.522643235498\n",
      "Warning: Hessian矩阵非正定！\n",
      "\t iter: 4  x: [-146.13161878 -336.11948191]  loss: 4350424187912.7007\n",
      "Warning: Hessian矩阵不可逆！\n",
      "迭代结束-iter: 5  x: [-1.21859101e+07 -3.47516632e+08]  loss: 5.43636417539642e+48\n"
     ]
    }
   ],
   "source": [
    "from module import BasicNewton\n",
    "print('### Watson ###')\n",
    "BasicNewton([0.,0.],watson)\n",
    "print()\n",
    "print('### Discrete Boundary Value ###')\n",
    "BasicNewton(dbv.init_point(),dbv)"
   ]
  },
  {
   "cell_type": "markdown",
   "id": "a1510827-955a-4159-92fd-357ed88e25e9",
   "metadata": {},
   "source": [
    "#### 2.Newton法精确线搜索"
   ]
  },
  {
   "cell_type": "code",
   "execution_count": 5,
   "id": "d9f58ddf-5849-4d49-b9c0-7c87bec9a7da",
   "metadata": {},
   "outputs": [
    {
     "name": "stdout",
     "output_type": "stream",
     "text": [
      "### Watson ###\n",
      "迭代结束-iter: 407  x: [-0.60101559  1.0893466 ]  loss: 0.33219668614111714\n",
      "\n",
      "### Discrete Boundary Value ###\n",
      "Warning: Hessian矩阵不可逆！\n",
      "迭代结束-iter: 5  x: [-1.21859101e+07 -3.47516632e+08]  loss: 5.4363641753964974e+48\n"
     ]
    }
   ],
   "source": [
    "from module import ExactLineSearch\n",
    "print('### Watson ###')\n",
    "ExactLineSearch([0.,0.],watson)\n",
    "print()\n",
    "print('### Discrete Boundary Value ###')\n",
    "ExactLineSearch(dbv.init_point(),dbv)"
   ]
  },
  {
   "cell_type": "markdown",
   "id": "d1491d61-152e-4600-90c7-15c66a011e11",
   "metadata": {},
   "source": [
    "#### 3.阻尼Newton法"
   ]
  },
  {
   "cell_type": "code",
   "execution_count": 6,
   "id": "9faa1aa7-9a20-4ae2-be63-3b682e077ca0",
   "metadata": {},
   "outputs": [
    {
     "name": "stdout",
     "output_type": "stream",
     "text": [
      "### Watson ###\n",
      "迭代结束-iter: 4064  x: [-0.60101559  1.08934661]  loss: 0.33219668614090553\n",
      "\n",
      "### Discrete Boundary Value ###\n",
      "迭代结束-iter: 10000  x: [-3846.95009936  -273.21998427]  loss: 9.98281674060932e+18\n"
     ]
    }
   ],
   "source": [
    "from module import DampedNewton\n",
    "print('### Watson ###')\n",
    "DampedNewton([0.,0.],watson)\n",
    "print()\n",
    "print('### Discrete Boundary Value ###')\n",
    "DampedNewton(dbv.init_point(),dbv)"
   ]
  },
  {
   "cell_type": "markdown",
   "id": "18a42edb-af34-4e0a-bed6-2624f904ce19",
   "metadata": {},
   "source": [
    "#### 4.混合Newton法"
   ]
  },
  {
   "cell_type": "code",
   "execution_count": 3,
   "id": "65859f05-db32-48bc-8d9f-cdeee3e64ad8",
   "metadata": {},
   "outputs": [
    {
     "name": "stdout",
     "output_type": "stream",
     "text": [
      "### Watson ###\n",
      "Warning: Hessian矩阵非正定，方向取反\n",
      "\t iter: 3  x: [-0.16187127  1.03580955]  loss: 4.078712925293775\n",
      "迭代结束-iter: 10000  x: [-0.59563851  1.08770124]  loss: 0.33256418736863796\n",
      "\n",
      "### Discrete Boundary Value ###\n",
      "迭代结束-iter: 206  x: [-0.12827531 -0.15929411]  loss: 2.599711150331122e-09\n"
     ]
    }
   ],
   "source": [
    "from module import MixNewton\n",
    "print('### Watson ###')\n",
    "MixNewton([0.,0.],watson)\n",
    "print()\n",
    "print('### Discrete Boundary Value ###')\n",
    "MixNewton(dbv.init_point(),dbv)"
   ]
  },
  {
   "cell_type": "markdown",
   "id": "6d30af6c-503b-4b80-8805-9868f31fa771",
   "metadata": {},
   "source": [
    "#### 5.SR1法"
   ]
  },
  {
   "cell_type": "code",
   "execution_count": 4,
   "id": "016808cb-aa48-4409-92ff-82d57965e5a8",
   "metadata": {},
   "outputs": [
    {
     "name": "stdout",
     "output_type": "stream",
     "text": [
      "### Watson ###\n",
      "迭代结束-iter: 1000  x: [-0.06666195  1.72123591]  loss: 32.7984585314581\n",
      "\n",
      "### Discrete Boundary Value ###\n",
      "Warning:Hessian矩阵非正定导致溢出！\n",
      "迭代结束-iter: 655  x: [16920.292151    2782.56039842]  loss: 7.2462978293696435e+22\n"
     ]
    }
   ],
   "source": [
    "from module import SR1\n",
    "print('### Watson ###')\n",
    "SR1([0.,0.],watson)\n",
    "print()\n",
    "print('### Discrete Boundary Value ###')\n",
    "SR1(dbv.init_point(),dbv)"
   ]
  },
  {
   "cell_type": "markdown",
   "id": "3942b921-b877-43d9-b0bb-af06cd2e3b4c",
   "metadata": {},
   "source": [
    "#### 6.DFP法"
   ]
  },
  {
   "cell_type": "code",
   "execution_count": 5,
   "id": "81f14e61-cd91-46ce-97d4-8637b4a13bed",
   "metadata": {},
   "outputs": [
    {
     "name": "stdout",
     "output_type": "stream",
     "text": [
      "### Watson ###\n",
      "迭代结束-iter: 37  x: [-0.60102213  1.08934738]  loss: 0.3321966860823175\n",
      "\n",
      "### Discrete Boundary Value ###\n",
      "迭代结束-iter: 7  x: [-0.12824676 -0.15926755]  loss: 1.490915579120691e-15\n"
     ]
    }
   ],
   "source": [
    "from module import DFP\n",
    "print('### Watson ###')\n",
    "DFP([0.,0.],watson)\n",
    "print()\n",
    "print('### Discrete Boundary Value ###')\n",
    "DFP(dbv.init_point(),dbv)"
   ]
  },
  {
   "cell_type": "markdown",
   "id": "6d0dfc03-3946-4fe3-85b4-ad38da504aa5",
   "metadata": {},
   "source": [
    "#### 7.BFGS"
   ]
  },
  {
   "cell_type": "code",
   "execution_count": 6,
   "id": "accd6826-9b48-4fd9-9fc7-7f03e2f55173",
   "metadata": {},
   "outputs": [
    {
     "name": "stdout",
     "output_type": "stream",
     "text": [
      "### Watson ###\n",
      "迭代结束-iter: 13  x: [-0.6010199   1.08934772]  loss: 0.33219668595326324\n",
      "\n",
      "### Discrete Boundary Value ###\n",
      "迭代结束-iter: 8  x: [-0.12825132 -0.15927149]  loss: 6.238941024252519e-11\n"
     ]
    }
   ],
   "source": [
    "from module import BFGS\n",
    "print('### Watson ###')\n",
    "BFGS([0.,0.],watson)\n",
    "print()\n",
    "print('### Discrete Boundary Value ###')\n",
    "BFGS(dbv.init_point(),dbv)"
   ]
  },
  {
   "cell_type": "markdown",
   "id": "7d72df01-cd33-44b5-b168-8f2d260f4a38",
   "metadata": {},
   "source": [
    "#### 8.Broyden"
   ]
  },
  {
   "cell_type": "code",
   "execution_count": 8,
   "id": "35b9ca49-b27c-476b-b31e-99847dd9ffe6",
   "metadata": {},
   "outputs": [
    {
     "name": "stdout",
     "output_type": "stream",
     "text": [
      "### Watson ###\n",
      "Warning:Hessian矩阵奇异！\n",
      "迭代结束-iter: 6  x: [-151.26069768 -604.13420272]  loss: 3302900690494.968\n",
      "\n",
      "### Discrete Boundary Value ###\n",
      "Warning:Hessian矩阵奇异！\n",
      "迭代结束-iter: 12  x: [-227.37547109   51.04572818]  loss: 412431031633.02136\n"
     ]
    }
   ],
   "source": [
    "from module import Broyden\n",
    "print('### Watson ###')\n",
    "Broyden([0.,0.],watson,0.5)\n",
    "print()\n",
    "print('### Discrete Boundary Value ###')\n",
    "Broyden(dbv.init_point(),dbv,0.5)"
   ]
  }
 ],
 "metadata": {
  "kernelspec": {
   "display_name": "Python 3",
   "language": "python",
   "name": "python3"
  },
  "language_info": {
   "codemirror_mode": {
    "name": "ipython",
    "version": 3
   },
   "file_extension": ".py",
   "mimetype": "text/x-python",
   "name": "python",
   "nbconvert_exporter": "python",
   "pygments_lexer": "ipython3",
   "version": "3.6.13"
  }
 },
 "nbformat": 4,
 "nbformat_minor": 5
}
