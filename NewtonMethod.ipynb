{
 "cells": [
  {
   "cell_type": "markdown",
   "id": "1a1e2261-9707-425e-b6fa-239d6804c08a",
   "metadata": {},
   "source": [
    "### Newton Methods"
   ]
  },
  {
   "cell_type": "markdown",
   "id": "ef185115-a7d0-4728-a4f8-efd3a018cfbf",
   "metadata": {},
   "source": [
    "### 定义测试函数"
   ]
  },
  {
   "cell_type": "code",
   "execution_count": 5,
   "id": "9ab9dd81-68c0-4524-87f3-d732018effbf",
   "metadata": {},
   "outputs": [],
   "source": [
    "class Watson(object):\n",
    "    def __init__(self, m):\n",
    "        self.m = m\n",
    "        \n",
    "    def r(self,x,i):\n",
    "        n = len(x)\n",
    "        first = 0\n",
    "        for j in range(2,n+1):\n",
    "            first += (j-1) * x[j-1] * (i/29)**(j-2)\n",
    "\n",
    "        second = 0\n",
    "        for j in range(1,n+1):\n",
    "            second += x[j-1] * (i/29)**(j-1)\n",
    "\n",
    "        return first-second**2-1\n",
    "        \n",
    "    def calculate(self,x):        \n",
    "        result = 0\n",
    "        for i in range(1,self.m+1):\n",
    "            result += self.r(x,i)**2\n",
    "        return result\n",
    "    \n",
    "    def grad_r(self,x,i):\n",
    "        grad_list = []\n",
    "        n = len(x)\n",
    "        ti = i/29\n",
    "        second = 0\n",
    "        for j in range(1,n+1):\n",
    "            second += x[j-1] * ti**(j-1)\n",
    "            \n",
    "        for j in range(1,n+1):\n",
    "            if j == 1:\n",
    "                grad_list.append(-2*second)\n",
    "            else:\n",
    "                grad_list.append( (j-1)*ti**(j-2)-2*second*ti**(j-1) )\n",
    "                \n",
    "        return grad_list\n",
    "        \n",
    "    def gradient(self,x):\n",
    "        import numpy as np\n",
    "        Grad = None\n",
    "        for i in range(1,self.m+1):\n",
    "            temp = 2*self.r(x,i)*np.array(self.grad_r(x,i))\n",
    "            if i == 1:\n",
    "                Grad = temp\n",
    "            else:\n",
    "                for i,v in enumerate(temp):\n",
    "                    Grad[i] += v\n",
    "        return np.array(Grad)\n",
    "    \n",
    "    def hessian(self,x):\n",
    "        import numpy as np\n",
    "        n = len(x)\n",
    "        H = np.zeros([n,n])\n",
    "        for m in range(1,self.m+1):\n",
    "            ti = m/29\n",
    "            h = np.zeros([n,n])\n",
    "            for i in range(n):\n",
    "                for j in range(i,n):\n",
    "                    temp1 = self.grad_r(x,m)\n",
    "                    temp2 = self.r(x,m)\n",
    "                    if i == j:\n",
    "                        h[i,j] = 2*temp1[i]*temp1[j]+2*temp2*(-2*ti**(i-1+j-1))\n",
    "                    else:\n",
    "                        h[j,i] = 2*temp1[i]*temp1[j]+2*temp2*(-2*ti**(i-1+j-1))\n",
    "                        h[i,j] = 2*temp1[i]*temp1[j]+2*temp2*(-2*ti**(i-1+j-1))\n",
    "            H += h\n",
    "        return H\n",
    "    \n",
    "    def plot(self,x=[-5,5],y=[-5,5]):\n",
    "        import numpy as np\n",
    "        import matplotlib.pyplot as plt\n",
    "        X = np.arange(x[0],x[-1],0.1)\n",
    "        Y = np.arange(y[0],y[-1],0.1)\n",
    "        Z = np.zeros((len(X),len(Y)))\n",
    "        for i in range(len(X)):\n",
    "            for j in range(len(Y)):\n",
    "                Z[i,j] = self.calculate([X[i],Y[j]])\n",
    "        fig, ax = plt.subplots(figsize=(5,5),dpi=100)\n",
    "        plt.rcParams['axes.unicode_minus']=False\n",
    "        CS = ax.contourf(X, Y, Z)\n",
    "        ax.set_title('contour of 2-dimensional watson')\n",
    "\n",
    "class DiscreteBoundaryValue(object):\n",
    "    def __init__(self, m):\n",
    "        self.m = m\n",
    "        \n",
    "    def init_point(self):\n",
    "        import numpy as np\n",
    "        h = 1 / (self.m+1)\n",
    "        init = []\n",
    "        for i in range(1,self.m+1):\n",
    "            ti = i*h\n",
    "            init.append(ti*(ti-1))\n",
    "        return np.array(init)\n",
    "    \n",
    "    def r(self,x,i):\n",
    "        n = len(x)\n",
    "        h = 1 / (n+1)\n",
    "        if i == 1:\n",
    "            return 2*x[i-1] - x[i] + h**2 * (x[i-1]+i*h+1)**3 / 2\n",
    "        elif i == n:\n",
    "            return 2*x[i-1] - x[i-2] + h**2 * (x[i-1]+i*h+1)**3 / 2\n",
    "        else:\n",
    "            return 2*x[i-1] - x[i-2] -x[i] + h**2 * (x[i-1]+i*h+1)**3 / 2\n",
    "    \n",
    "    def calculate(self,x):\n",
    "        result = 0\n",
    "        for i in range(1,self.m+1):\n",
    "            result += self.r(x,i)**2\n",
    "        return result\n",
    "    \n",
    "    def grad_r(self,x,i):\n",
    "        grad_list = []\n",
    "        n = len(x)\n",
    "        h = 1/(n+1)\n",
    "        ti = i*h\n",
    "        for j in range(1,n+1):\n",
    "            if j<i-1 or j>i+1:\n",
    "                grad_list.append(0.)\n",
    "            elif j == i-1:\n",
    "                grad_list.append(-1.)\n",
    "            elif j == i+1:\n",
    "                grad_list.append(-1.)\n",
    "            else:\n",
    "                grad_list.append( 2.+(x[j-1]+ti+1) ** 2 / 2 * 3 * h **2 )\n",
    "                \n",
    "        return grad_list\n",
    "        \n",
    "    def gradient(self,x):\n",
    "        import numpy as np\n",
    "        Grad = None\n",
    "        for i in range(1,self.m+1):\n",
    "            temp = 2*self.r(x,i)*np.array(self.grad_r(x,i))\n",
    "            if i == 1:\n",
    "                Grad = temp\n",
    "            else:\n",
    "                for i,v in enumerate(temp):\n",
    "                    Grad[i] += v\n",
    "        return np.array(Grad)\n",
    "    \n",
    "    def hessian(self,x):\n",
    "        import numpy as np\n",
    "        n = len(x)\n",
    "        h = 1 / (n+1)\n",
    "        H = np.zeros([n,n])\n",
    "        for m in range(1,self.m+1):\n",
    "            ti = m*h\n",
    "            for i in range(n):\n",
    "                H[i,i] += 3*h**2 * (x[i]+ti+1)\n",
    "        return H\n",
    "\n",
    "    def plot(self,x=[-5,5],y=[-5,5]):\n",
    "        import numpy as np\n",
    "        import matplotlib.pyplot as plt\n",
    "        X = np.arange(x[0],x[-1],0.1)\n",
    "        Y = np.arange(y[0],y[-1],0.1)\n",
    "        Z = np.zeros((len(X),len(Y)))\n",
    "        for i in range(len(X)):\n",
    "            for j in range(len(Y)):\n",
    "                Z[i,j] = self.calculate([X[i],Y[j]])\n",
    "        fig, ax = plt.subplots(figsize=(5,5),dpi=100)\n",
    "        plt.rcParams['axes.unicode_minus']=False\n",
    "        CS = ax.contourf(X, Y, Z)\n",
    "        ax.set_title('contour of discrete binary value')"
   ]
  },
  {
   "cell_type": "markdown",
   "id": "bbfecaba-788f-4358-86e1-53994370daf5",
   "metadata": {},
   "source": [
    "### 测试定义的函数"
   ]
  },
  {
   "cell_type": "code",
   "execution_count": 6,
   "id": "1684d68c-dc97-4861-8d55-d4225bd0184f",
   "metadata": {},
   "outputs": [
    {
     "name": "stdout",
     "output_type": "stream",
     "text": [
      "watson value: 661.1528713481628\n",
      "grad of watson:\n",
      " [1190.93689778  726.83729381]\n",
      "hessian of watson:\n",
      " [[3556.28029625 1364.77280741]\n",
      " [1364.77280741  901.09773909]]\n"
     ]
    },
    {
     "data": {
      "image/png": "[encoded data removed]",
      "text/plain": [
       "<Figure size 500x500 with 1 Axes>"
      ]
     },
     "metadata": {
      "needs_background": "light"
     },
     "output_type": "display_data"
    }
   ],
   "source": [
    "watson = Watson(31)\n",
    "print('watson value:',watson.calculate([1,2]))\n",
    "print('grad of watson:\\n',watson.gradient([1,2]))\n",
    "print('hessian of watson:\\n',watson.hessian([1,2]))\n",
    "watson.plot(x=[-10,10],y=[-10,10])"
   ]
  },
  {
   "cell_type": "code",
   "execution_count": 7,
   "id": "6ab81642-22bf-41a8-9ffe-bc711fd8c44b",
   "metadata": {},
   "outputs": [
    {
     "name": "stdout",
     "output_type": "stream",
     "text": [
      "discrete binary value: 33.430583075073244\n",
      "grad of discrete binary value:\n",
      " [-7.37349489 47.26101204]\n",
      "hessian of discrete binary value:\n",
      " [[1.66666667 0.        ]\n",
      " [0.         2.33333333]]\n"
     ]
    },
    {
     "data": {
      "image/png": "[encoded data removed]",
      "text/plain": [
       "<Figure size 500x500 with 1 Axes>"
      ]
     },
     "metadata": {
      "needs_background": "light"
     },
     "output_type": "display_data"
    }
   ],
   "source": [
    "dbv = DiscreteBoundaryValue(2)\n",
    "print('discrete binary value:',dbv.calculate([1,2]))\n",
    "print('grad of discrete binary value:\\n',dbv.gradient([1,2]))\n",
    "print('hessian of discrete binary value:\\n',dbv.hessian([1,2]))\n",
    "dbv.plot(x=[-12,10],y=[-12,10])"
   ]
  },
  {
   "cell_type": "markdown",
   "id": "27e4ab05-73f4-409c-a8bd-ed7cf1a9e2b9",
   "metadata": {},
   "source": [
    "### 定义优化函数\n",
    "#### 1.Newton法"
   ]
  },
  {
   "cell_type": "code",
   "execution_count": 79,
   "id": "51dd7aa8-a9d0-4b48-9377-8831cd29b51c",
   "metadata": {},
   "outputs": [],
   "source": [
    "def BasicNewton(x0,loss):\n",
    "    import numpy as np\n",
    "    maxIter = 1000\n",
    "    eps = 1.e-4\n",
    "    x = x0\n",
    "    for i in range(1,maxIter+1):\n",
    "        gradient = loss.gradient(x)\n",
    "        hessian = loss.hessian(x)\n",
    "        inv_hessian = np.linalg.inv(hessian)\n",
    "        \n",
    "        if abs(np.linalg.det(inv_hessian)) < 1.e-6:\n",
    "            print('Warning: Hessian矩阵不可逆！')\n",
    "            break  \n",
    "        elif np.all(np.linalg.eigvals(inv_hessian) > 0): \n",
    "            d = np.inner(inv_hessian,-gradient)\n",
    "            x = x+d \n",
    "        else:\n",
    "            print('Warning: Hessian矩阵非正定！')\n",
    "            print('\\t iter:',i,' x:',x,' loss:',loss.calculate(x))\n",
    "            d = np.inner(inv_hessian,-gradient)\n",
    "            x = x+d\n",
    "\n",
    "        #print('iter:',i,' x:',x,' loss:',loss.calculate(x))\n",
    "        if np.abs(loss.gradient(x)).max() < eps:\n",
    "            break\n",
    "    print('迭代结束-iter:',i,' x:',x,' loss:',loss.calculate(x))"
   ]
  },
  {
   "cell_type": "code",
   "execution_count": 80,
   "id": "8c0ac766-9819-4f09-9473-f0ce1ced0d08",
   "metadata": {},
   "outputs": [
    {
     "name": "stdout",
     "output_type": "stream",
     "text": [
      "迭代结束-iter: 407  x: [-0.60101559  1.0893466 ]  loss: 0.33219668614111714\n"
     ]
    }
   ],
   "source": [
    "BasicNewton([0.,0.],watson)"
   ]
  },
  {
   "cell_type": "code",
   "execution_count": 81,
   "id": "947f4f14-8726-4867-8a83-18b2efb4ee9e",
   "metadata": {},
   "outputs": [
    {
     "name": "stdout",
     "output_type": "stream",
     "text": [
      "Warning: Hessian矩阵非正定！\n",
      "\t iter: 3  x: [-6.20291648  7.44040953]  loss: 4664.522643235498\n",
      "Warning: Hessian矩阵非正定！\n",
      "\t iter: 4  x: [-146.13161878 -336.11948191]  loss: 4350424187912.7007\n",
      "Warning: Hessian矩阵不可逆！\n",
      "迭代结束-iter: 5  x: [-1.21859101e+07 -3.47516632e+08]  loss: 5.43636417539642e+48\n"
     ]
    }
   ],
   "source": [
    "BasicNewton(dbv.init_point(),dbv)"
   ]
  },
  {
   "cell_type": "markdown",
   "id": "b5c09347-1ec6-4cfc-a5cd-17493001bb4e",
   "metadata": {},
   "source": [
    "#### 2.精确线搜索"
   ]
  },
  {
   "cell_type": "code",
   "execution_count": 106,
   "id": "b125901c-8965-4ac1-8102-4c796b2212e2",
   "metadata": {},
   "outputs": [],
   "source": [
    "def ExactLineSearch(x0,loss):\n",
    "    import numpy as np\n",
    "    maxIter = 1000\n",
    "    eps = 1.e-4\n",
    "    x = x0\n",
    "    for i in range(1,maxIter+1):\n",
    "        gradient = loss.gradient(x)\n",
    "        hessian = loss.hessian(x)\n",
    "        inv_hessian = np.linalg.inv(hessian)\n",
    "        \n",
    "        if abs(np.linalg.det(inv_hessian)) < 1.e-6:\n",
    "            print('Warning: Hessian矩阵不可逆！')\n",
    "            break  \n",
    "        else:\n",
    "            d = np.inner(inv_hessian,-gradient)\n",
    "            step_size = np.inner(d,d) / (np.inner(d,np.inner(hessian,d)))\n",
    "            x = x + step_size*d \n",
    "\n",
    "        if np.abs(loss.gradient(x)).max() < eps:\n",
    "            break\n",
    "    print('迭代结束-iter:',i,' x:',x,' loss:',loss.calculate(x))"
   ]
  },
  {
   "cell_type": "code",
   "execution_count": 107,
   "id": "a100fda0-fe25-4b64-810d-f877374b68a7",
   "metadata": {},
   "outputs": [
    {
     "name": "stdout",
     "output_type": "stream",
     "text": [
      "迭代结束-iter: 1000  x: [-0.23240671  0.98011548]  loss: 2.603650377657193\n"
     ]
    }
   ],
   "source": [
    "ExactLineSearch([0.,0.],watson)"
   ]
  },
  {
   "cell_type": "code",
   "execution_count": 108,
   "id": "d4acef13-d424-46c2-806a-958d9dc5c1a5",
   "metadata": {},
   "outputs": [
    {
     "name": "stdout",
     "output_type": "stream",
     "text": [
      "Warning: Hessian矩阵不可逆！\n",
      "迭代结束-iter: 5  x: [  879.71213954 19876.06386197]  loss: 1.903951421530191e+23\n"
     ]
    }
   ],
   "source": [
    "ExactLineSearch(dbv.init_point(),dbv)"
   ]
  },
  {
   "cell_type": "markdown",
   "id": "3f782936-ae57-404f-bc97-e5511ce1c2e9",
   "metadata": {},
   "source": [
    "#### 3.阻尼Newton方法"
   ]
  },
  {
   "cell_type": "code",
   "execution_count": 76,
   "id": "1a297d9c-d1d2-4f15-8d9d-124990b785fc",
   "metadata": {},
   "outputs": [],
   "source": [
    "def StepSearch(loss,x,d,start=0.,end=3.,size=0.5,rho=0.2,sigma=0.5):\n",
    "    import numpy as np\n",
    "    '''根据Wolfe准则选择步长'''\n",
    "    temp = []\n",
    "    gradient = loss.gradient(x)\n",
    "    for step in np.arange(start,end,size)[1:]:\n",
    "        if loss.calculate(x+step*d) <= loss.calculate(x) + rho*np.inner(gradient,step*d) \\\n",
    "            and np.inner(loss.gradient(x+step*d),d) >= sigma*np.inner(gradient,d):\n",
    "            temp.append(step)\n",
    "    return temp\n",
    "\n",
    "def DampedNewton(x0,loss):\n",
    "    import numpy as np\n",
    "    maxIter = 10000\n",
    "    eps = 1.e-4\n",
    "    x = x0\n",
    "    for i in range(1,maxIter+1):\n",
    "        gradient = loss.gradient(x)\n",
    "        hessian = loss.hessian(x)\n",
    "        inv_hessian = np.linalg.inv(hessian)\n",
    "        d = np.inner(inv_hessian,-gradient)\n",
    "        \n",
    "        if abs(np.linalg.det(inv_hessian)) < 1.e-6:\n",
    "            print('Warning: Hessian矩阵不可逆！')\n",
    "            break  \n",
    "        else:\n",
    "            step = StepSearch(loss,x,d,-3.,3.)\n",
    "            if len(step) == 0:\n",
    "                step_size = 0.1\n",
    "            else:\n",
    "                step_size = np.random.choice(step)\n",
    "            x = x + step_size*d \n",
    "\n",
    "        if np.abs(loss.gradient(x)).max() < eps:\n",
    "            break\n",
    "    print('迭代结束-iter:',i,' x:',x,' loss:',loss.calculate(x))"
   ]
  },
  {
   "cell_type": "code",
   "execution_count": 15,
   "id": "f9022898-abf9-4918-8a34-cc6a81480c57",
   "metadata": {},
   "outputs": [
    {
     "name": "stdout",
     "output_type": "stream",
     "text": [
      "迭代结束-iter: 3844  x: [-0.60101558  1.0893466 ]  loss: 0.33219668614140296\n"
     ]
    }
   ],
   "source": [
    "DampedNewton([0.,0.],watson)"
   ]
  },
  {
   "cell_type": "code",
   "execution_count": 16,
   "id": "6804ad4c-4287-4b71-a3f7-7d7fbd797530",
   "metadata": {},
   "outputs": [
    {
     "name": "stdout",
     "output_type": "stream",
     "text": [
      "迭代结束-iter: 14  x: [-0.12823568 -0.15925601]  loss: 4.45894454167639e-10\n"
     ]
    }
   ],
   "source": [
    "DampedNewton(dbv.init_point(),dbv)"
   ]
  },
  {
   "cell_type": "markdown",
   "id": "9c6abd93-d1b6-4086-9d6c-a7b5d0b2c636",
   "metadata": {},
   "source": [
    "#### 4.混合方法"
   ]
  },
  {
   "cell_type": "code",
   "execution_count": 8,
   "id": "ec0dbd09-9e57-43f9-82c6-955bb790b0e0",
   "metadata": {},
   "outputs": [],
   "source": [
    "def MixNewton(x0,loss,eps1=0.2,eps2=0.1):\n",
    "    import numpy as np\n",
    "    maxIter = 10000\n",
    "    eps = 1.e-4\n",
    "    x = x0\n",
    "    for i in range(1,maxIter+1):\n",
    "        gradient = loss.gradient(x)\n",
    "        hessian = loss.hessian(x)\n",
    "        inv_hessian = np.linalg.inv(hessian)\n",
    "        d = np.inner(inv_hessian,-gradient)\n",
    "        \n",
    "        if abs(np.linalg.det(inv_hessian)) < 1.e-6:\n",
    "            print('Warning: Hessian矩阵奇异，采用负梯度方向')\n",
    "            print('\\t iter:',i,' x:',x,' loss:',loss.calculate(x))\n",
    "            d = -gradient\n",
    "        elif np.inner(gradient,d) > eps1*np.linalg.norm(gradient)*np.linalg.norm(d):\n",
    "            print('Warning: Hessian矩阵非正定，方向取反')\n",
    "            print('\\t iter:',i,' x:',x,' loss:',loss.calculate(x))\n",
    "            d = -d\n",
    "        elif np.abs(np.inner(gradient,d)) <= eps2*np.linalg.norm(gradient)*np.linalg.norm(d):\n",
    "            print('Warning: 迭代方向几乎与负梯度方向正交，采用负梯度方向')\n",
    "            print('\\t iter:',i,' x:',x,' loss:',loss.calculate(x))\n",
    "            d = -gradient\n",
    "            \n",
    "        step = StepSearch(loss,x,d)\n",
    "        if len(step) == 0:\n",
    "            step_size = 0.1\n",
    "        else:\n",
    "            step_size = np.random.choice(step)\n",
    "        x = x + step_size*d \n",
    "\n",
    "        #print('iter:',i,' x:',x,' loss:',loss.calculate(x))\n",
    "        if np.abs(loss.gradient(x)).max() < eps:\n",
    "            break\n",
    "    print('迭代结束-iter:',i,' x:',x,' loss:',loss.calculate(x))"
   ]
  },
  {
   "cell_type": "code",
   "execution_count": 9,
   "id": "85a5edba-7f0e-483c-afbc-c37d27f8b93c",
   "metadata": {},
   "outputs": [
    {
     "name": "stdout",
     "output_type": "stream",
     "text": [
      "Warning: Hessian矩阵非正定，方向取反\n",
      "\t iter: 4  x: [-0.11616061  1.02836047]  loss: 5.1482902299902875\n",
      "迭代结束-iter: 4013  x: [-0.60101559  1.0893466 ]  loss: 0.3321966861413223\n"
     ]
    }
   ],
   "source": [
    "MixNewton([0.,0.],watson)"
   ]
  },
  {
   "cell_type": "code",
   "execution_count": 11,
   "id": "cb4b3a84-54e3-46b4-a729-e2b088e49853",
   "metadata": {},
   "outputs": [
    {
     "name": "stdout",
     "output_type": "stream",
     "text": [
      "迭代结束-iter: 15  x: [-0.12826628 -0.15928817]  loss: 1.4059365116221034e-09\n"
     ]
    }
   ],
   "source": [
    "MixNewton(dbv.init_point(),dbv)"
   ]
  },
  {
   "cell_type": "markdown",
   "id": "b71b576e-991c-4462-a7bb-e2ce9fb03e29",
   "metadata": {},
   "source": [
    "#### 5.SR1方法"
   ]
  },
  {
   "cell_type": "code",
   "execution_count": 103,
   "id": "953c0c66-e973-4a8e-b1b7-1725ca8d3711",
   "metadata": {},
   "outputs": [],
   "source": [
    "def SR1(x0,loss):\n",
    "    import numpy as np\n",
    "    maxIter = 1000\n",
    "    eps = 1.e-4\n",
    "    x = x0\n",
    "    g = loss.gradient(x0)\n",
    "    G = loss.hessian(x0)\n",
    "    H = np.linalg.inv(G)\n",
    "    for i in range(1,maxIter+1):\n",
    "        if abs(np.linalg.det(H)) < 1.e-6:\n",
    "            print('Warning:Hessian矩阵奇异！')\n",
    "            break\n",
    "        '''if np.all(np.linalg.eigvals(H) > 0) == False:\n",
    "            print('Warning:矩阵非正定！')'''\n",
    "        d = - np.inner(H,g)\n",
    "\n",
    "        step = StepSearch(loss,x,d)\n",
    "        if len(step) == 0:\n",
    "            step_size = 0.01\n",
    "        else:\n",
    "            step_size = np.random.choice(step)\n",
    "\n",
    "        s = step_size * d\n",
    "        y = loss.gradient(x+s) - loss.gradient(x)\n",
    "        u = s - np.inner(H,y).reshape(len(x),1)\n",
    "        H += np.matmul(u,u.T) / np.inner(y,u.T)\n",
    "\n",
    "        x = x + s\n",
    "        g = loss.gradient(x)\n",
    "        if loss.calculate(x) > 1.e+10:\n",
    "            print('Warning:Hessian矩阵非正定导致溢出！')\n",
    "            break\n",
    "        if np.abs(g).max() < eps:\n",
    "            break\n",
    "        \n",
    "    print('迭代结束-iter:',i,' x:',x,' loss:',loss.calculate(x))"
   ]
  },
  {
   "cell_type": "code",
   "execution_count": 104,
   "id": "4d7f742e-f42a-4757-8d2f-547dda7fa286",
   "metadata": {},
   "outputs": [
    {
     "name": "stdout",
     "output_type": "stream",
     "text": [
      "Warning:Hessian矩阵非正定导致溢出！\n",
      "迭代结束-iter: 282  x: [-7729.5705374  -1409.21906583]  loss: 1.6491225704573677e+17\n"
     ]
    }
   ],
   "source": [
    "SR1([0.,0.],watson)"
   ]
  },
  {
   "cell_type": "code",
   "execution_count": 105,
   "id": "ce42d79b-cc7c-4536-bf64-91dff77a0bc9",
   "metadata": {},
   "outputs": [
    {
     "name": "stdout",
     "output_type": "stream",
     "text": [
      "Warning:Hessian矩阵非正定导致溢出！\n",
      "迭代结束-iter: 655  x: [16920.292151    2782.56039842]  loss: 7.2462978293696435e+22\n"
     ]
    }
   ],
   "source": [
    "SR1(dbv.init_point(),dbv)"
   ]
  },
  {
   "cell_type": "markdown",
   "id": "cc29ac05-7066-41e8-b0f4-1c38f2f94094",
   "metadata": {},
   "source": [
    "#### 6.DFP方法"
   ]
  },
  {
   "cell_type": "code",
   "execution_count": 39,
   "id": "45939421-bc87-4e0c-8b96-24dbb8b19acc",
   "metadata": {},
   "outputs": [],
   "source": [
    "def DFP(x0,loss):\n",
    "    import numpy as np\n",
    "    maxIter = 1000\n",
    "    eps = 1.e-4\n",
    "    x = x0\n",
    "    n = len(x)\n",
    "    g = loss.gradient(x0)\n",
    "    G = loss.hessian(x0)\n",
    "    H = np.linalg.inv(G)\n",
    "    for i in range(1,maxIter+1):\n",
    "        if abs(np.linalg.det(H)) < 1.e-6:\n",
    "            print('Warning:Hessian矩阵奇异！')\n",
    "            print('\\t iter:',i,' x:',x,' loss:',loss.calculate(x))\n",
    "            break\n",
    "        else:\n",
    "            d = - np.inner(H,g)\n",
    "\n",
    "            step = StepSearch(loss,x,d)\n",
    "            if len(step) == 0:\n",
    "                step_size = 0.01\n",
    "            else:\n",
    "                step_size = np.random.choice(step)\n",
    "\n",
    "            s = step_size * d\n",
    "            y = loss.gradient(x+s) - loss.gradient(x)\n",
    "            term1 = np.matmul(s.reshape(n,1),s.reshape(1,n)) / np.inner(s,y)\n",
    "            term2 = - np.matmul(np.inner(H,y).reshape(n,1),np.inner(H,y).reshape(1,n)) / np.inner(y,np.inner(H,y))\n",
    "            H = H + term1 + term2\n",
    "            x = x + s\n",
    "            g = loss.gradient(x)\n",
    "            \n",
    "            if np.abs(g).max() < eps:\n",
    "                break\n",
    "    print('迭代结束-iter:',i,' x:',x,' loss:',loss.calculate(x))"
   ]
  },
  {
   "cell_type": "code",
   "execution_count": 40,
   "id": "1293082a-819f-41f0-a294-f615106a700d",
   "metadata": {},
   "outputs": [
    {
     "name": "stdout",
     "output_type": "stream",
     "text": [
      "迭代结束-iter: 25  x: [-0.60101876  1.08934844]  loss: 0.3321966859758604\n"
     ]
    }
   ],
   "source": [
    "DFP([0.,0.],watson)"
   ]
  },
  {
   "cell_type": "code",
   "execution_count": 41,
   "id": "8862947e-7dbb-437e-8258-14e4286c54e0",
   "metadata": {},
   "outputs": [
    {
     "name": "stdout",
     "output_type": "stream",
     "text": [
      "迭代结束-iter: 8  x: [-0.12824808 -0.15926521]  loss: 7.576911875896969e-11\n"
     ]
    }
   ],
   "source": [
    "DFP(dbv.init_point(),dbv)"
   ]
  },
  {
   "cell_type": "markdown",
   "id": "45ba9ce0-048f-476f-80b5-dc1f63776bef",
   "metadata": {},
   "source": [
    "#### 7.BFGS"
   ]
  },
  {
   "cell_type": "code",
   "execution_count": 8,
   "id": "706ba341-0549-4468-86a9-9017eaef9f39",
   "metadata": {},
   "outputs": [],
   "source": [
    "def BFGS(x0,loss):\n",
    "    import numpy as np\n",
    "    maxIter = 10000\n",
    "    eps = 1.e-4\n",
    "    x = x0\n",
    "    n = len(x)\n",
    "    g = loss.gradient(x0)\n",
    "    B = loss.hessian(x0)\n",
    "    for i in range(1,maxIter+1):\n",
    "        if abs(np.linalg.det(B)) < 1.e-6:\n",
    "            print('Warning:Hessian矩阵奇异！')\n",
    "            print('\\t iter:',i,' x:',x,' loss:',loss.calculate(x))\n",
    "            break\n",
    "        else:\n",
    "            H = np.linalg.inv(B)\n",
    "            d = - np.inner(H,g)\n",
    "\n",
    "            step = StepSearch(loss,x,d)\n",
    "            if len(step) == 0:\n",
    "                step_size = 0.01\n",
    "            else:\n",
    "                step_size = np.random.choice(step)\n",
    "\n",
    "            s = step_size * d\n",
    "            y = loss.gradient(x+s) - loss.gradient(x)            \n",
    "            term1 = np.matmul(y.reshape(n,1),y.reshape(1,n)) / np.inner(s,y)\n",
    "            term2 = - np.matmul(np.inner(B,s).reshape(n,1),np.inner(B,s).reshape(1,n)) / np.inner(s,np.inner(B,s))\n",
    "            B = B + term1 + term2\n",
    "            x = x + s\n",
    "            g = loss.gradient(x)\n",
    "            \n",
    "            if np.abs(g).max() < eps:\n",
    "                break\n",
    "    print('迭代结束-iter:',i,' x:',x,' loss:',loss.calculate(x))"
   ]
  },
  {
   "cell_type": "code",
   "execution_count": 9,
   "id": "25ed39f9-54a2-406f-be07-eb600452480c",
   "metadata": {},
   "outputs": [
    {
     "name": "stdout",
     "output_type": "stream",
     "text": [
      "迭代结束-iter: 12  x: [-0.6010153   1.08934519]  loss: 0.3321966862101118\n"
     ]
    }
   ],
   "source": [
    "BFGS([0.,0.],watson)"
   ]
  },
  {
   "cell_type": "code",
   "execution_count": 33,
   "id": "d15b454a-b362-47f0-9856-c1e1c0169701",
   "metadata": {},
   "outputs": [
    {
     "name": "stdout",
     "output_type": "stream",
     "text": [
      "迭代结束-iter: 4  x: [-0.12824329 -0.15926622]  loss: 4.1545579143062214e-11\n"
     ]
    }
   ],
   "source": [
    "BFGS(dbv.init_point(),dbv)"
   ]
  },
  {
   "cell_type": "markdown",
   "id": "19e5fa00-be20-42b8-ab60-806067e7cf98",
   "metadata": {},
   "source": [
    "#### 8. Broyden族公式"
   ]
  },
  {
   "cell_type": "code",
   "execution_count": 45,
   "id": "730900c9-b2f6-4d67-9e94-0864edeb9d53",
   "metadata": {},
   "outputs": [],
   "source": [
    "def Broyden(x0,loss,phi):\n",
    "    import numpy as np\n",
    "    maxIter = 1000\n",
    "    eps = 1.e-4\n",
    "    x = x0\n",
    "    n = len(x)\n",
    "    g = loss.gradient(x0)\n",
    "    B = loss.hessian(x0)\n",
    "    H = H_DFP = H_BFGS = np.linalg.inv(B)\n",
    "    for i in range(1,maxIter+1):\n",
    "        if abs(np.linalg.det(H)) < 1.e-7:\n",
    "            print('Warning:Hessian矩阵奇异！')\n",
    "            break\n",
    "        else:\n",
    "            \n",
    "            d = - np.inner(H,g)\n",
    "\n",
    "            step = StepSearch(loss,x,d)\n",
    "            if len(step) == 0:\n",
    "                step_size = 0.01\n",
    "            else:\n",
    "                step_size = np.random.choice(step)\n",
    "\n",
    "            s = step_size * d\n",
    "            y = loss.gradient(x+s) - loss.gradient(x)\n",
    "            term1 = np.matmul(s.reshape(n,1),s.reshape(1,n)) / np.inner(s,y)\n",
    "            term2 = - np.matmul(np.inner(H,y).reshape(n,1),np.inner(H,y).reshape(1,n)) / np.inner(y,np.inner(H,y))\n",
    "            H_DFP = H_DFP + term1 + term2\n",
    "            \n",
    "            term1 = (1+np.inner(y,np.inner(H,y))) / np.inner(y,s) * np.matmul(s.reshape(n,1),s.reshape(1,n)) / np.inner(s,y)\n",
    "            term2 = - (np.matmul(np.matmul(s.reshape(n,1),y.reshape(1,n)),H) + np.matmul(H,np.matmul(y.reshape(n,1),s.reshape(1,n)))) / np.inner(s,y)\n",
    "            H_BFGS = H_BFGS + term1 + term2\n",
    "            \n",
    "            H = (1-phi)*H_DFP + phi*H_BFGS\n",
    "            x = x + s\n",
    "            g = loss.gradient(x)\n",
    "            \n",
    "            if np.abs(g).max() < eps:\n",
    "                break\n",
    "    print('迭代结束-iter:',i,' x:',x,' loss:',loss.calculate(x))"
   ]
  },
  {
   "cell_type": "code",
   "execution_count": 46,
   "id": "5a9b6945-98e5-41bc-984b-d684277664f2",
   "metadata": {},
   "outputs": [
    {
     "name": "stdout",
     "output_type": "stream",
     "text": [
      "Warning:Hessian矩阵奇异！\n",
      "迭代结束-iter: 4  x: [-2622.69319645  3566.73502831]  loss: 183460821456514.03\n"
     ]
    }
   ],
   "source": [
    "Broyden([0.,0.],watson,0.5)"
   ]
  },
  {
   "cell_type": "code",
   "execution_count": 47,
   "id": "01b3b39b-4c21-420f-b0d4-e825ee7bce9c",
   "metadata": {},
   "outputs": [
    {
     "name": "stdout",
     "output_type": "stream",
     "text": [
      "迭代结束-iter: 535  x: [-0.12824873 -0.1592717 ]  loss: 6.182713190068957e-11\n"
     ]
    }
   ],
   "source": [
    "Broyden(dbv.init_point(),dbv,0.5)"
   ]
  }
 ],
 "metadata": {
  "kernelspec": {
   "display_name": "Python 3",
   "language": "python",
   "name": "python3"
  },
  "language_info": {
   "codemirror_mode": {
    "name": "ipython",
    "version": 3
   },
   "file_extension": ".py",
   "mimetype": "text/x-python",
   "name": "python",
   "nbconvert_exporter": "python",
   "pygments_lexer": "ipython3",
   "version": "3.6.13"
  }
 },
 "nbformat": 4,
 "nbformat_minor": 5
}
