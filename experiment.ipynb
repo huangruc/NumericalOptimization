{
 "cells": [
  {
   "cell_type": "markdown",
   "id": "9de0e8c4-19ba-4737-aa89-1a875a03e173",
   "metadata": {},
   "source": [
    "### Experiment\n",
    "#### 1.不同线搜索准则的比较\n",
    "##### 1.1 Watson"
   ]
  },
  {
   "cell_type": "code",
   "execution_count": 1,
   "id": "28cde1dc-3b3c-4863-87d5-10441d0fdb80",
   "metadata": {},
   "outputs": [],
   "source": [
    "from module import *\n",
    "import time\n",
    "watson = Watson(31) "
   ]
  },
  {
   "cell_type": "code",
   "execution_count": 2,
   "id": "05034e50-d7c4-490a-b635-b107c018192e",
   "metadata": {},
   "outputs": [
    {
     "name": "stdout",
     "output_type": "stream",
     "text": [
      "### Goldstein ###\n",
      "迭代结束-iter: 5406  x: [-0.60101944  1.08934779]  loss: 0.33219668594973284\n",
      "Time Consumption:  27.489601373672485\n"
     ]
    }
   ],
   "source": [
    "print('### Goldstein ###')\n",
    "begin = time.time()\n",
    "DampedNewton([0.,0.],watson,Goldstein())\n",
    "end = time.time()\n",
    "print('Time Consumption: ',end - begin)"
   ]
  },
  {
   "cell_type": "code",
   "execution_count": 3,
   "id": "9c7e319a-bd71-4028-8420-854f59fcd668",
   "metadata": {},
   "outputs": [
    {
     "name": "stdout",
     "output_type": "stream",
     "text": [
      "### Wolfe ###\n",
      "迭代结束-iter: 5800  x: [-0.60101944  1.08934779]  loss: 0.33219668594973256\n",
      "Time Consumption:  36.97166919708252\n"
     ]
    }
   ],
   "source": [
    "print('### Wolfe ###')\n",
    "begin = time.time()\n",
    "DampedNewton([0.,0.],watson,Wolfe())\n",
    "end = time.time()\n",
    "print('Time Consumption: ',end - begin)"
   ]
  },
  {
   "cell_type": "code",
   "execution_count": 4,
   "id": "6b8f772f-d93c-42e6-91cf-1163018ae80b",
   "metadata": {},
   "outputs": [
    {
     "name": "stdout",
     "output_type": "stream",
     "text": [
      "### Strong Wolfe ###\n",
      "迭代结束-iter: 5735  x: [-0.60101944  1.08934779]  loss: 0.33219668594973284\n",
      "Time Consumption:  32.67377710342407\n"
     ]
    }
   ],
   "source": [
    "print('### Strong Wolfe ###')\n",
    "begin = time.time()\n",
    "DampedNewton([0.,0.],watson,StrongWolfe())\n",
    "end = time.time()\n",
    "print('Time Consumption: ',end - begin)"
   ]
  },
  {
   "cell_type": "markdown",
   "id": "b76396b7-98fa-4255-8937-95e173c239de",
   "metadata": {},
   "source": [
    "- 分析 <br/>\n",
    "选择需要通过线搜索确定步长的阻尼Newton法，比较不同线搜索方法的差异。<br/>\n",
    "在Watson函数上，Goldstein方法经过5406次迭代，收敛到最优解，消耗的CPU时间为27.4896s；Wolfe方法经过5800次迭代，收敛到最优解，消耗的CPU时间为36.97117s；Strong Wolfe方法经过5735次迭代，收敛到最优解，消耗的CPU时间为32.6738s。Goldstein所需的迭代次数和时间最少，在该实验中优于另外两种搜索方法。Wolfe和Strong Wolfe函数的迭代次数接近，但是Strong Wolfe所用的的时间更少。这是因为在代码的实现过程中，Strong Wolfe条件仅比Wolfe条件多一次求绝对值的运算，就能获得更加精确的搜索步长。"
   ]
  },
  {
   "cell_type": "markdown",
   "id": "7ae5f3a7-4561-4a85-aba9-1358f695bbfd",
   "metadata": {},
   "source": [
    "##### 1.2 Discrete Boundary Value (2 dimension)"
   ]
  },
  {
   "cell_type": "code",
   "execution_count": 5,
   "id": "9127865a-3928-4f58-9558-76c60e172a61",
   "metadata": {},
   "outputs": [
    {
     "name": "stdout",
     "output_type": "stream",
     "text": [
      "### Goldstein ###\n",
      "Warning: Hessian矩阵不可逆！\n",
      "迭代结束-iter: 18  x: [-6.07549555e+11 -1.15651758e+07]  loss: 1.552191252985048e+68\n",
      "Time Consumption:  0.012641429901123047\n"
     ]
    }
   ],
   "source": [
    "dbv = DiscreteBoundaryValue(2)\n",
    "print('### Goldstein ###')\n",
    "begin = time.time()\n",
    "DampedNewton(dbv.init_point(),dbv,Goldstein())\n",
    "end = time.time()\n",
    "print('Time Consumption: ',end - begin)"
   ]
  },
  {
   "cell_type": "code",
   "execution_count": 6,
   "id": "395f927e-2fa1-4597-9f7c-6a97150cd43b",
   "metadata": {},
   "outputs": [
    {
     "name": "stdout",
     "output_type": "stream",
     "text": [
      "### Wolfe ###\n",
      "Warning: Hessian矩阵不可逆！\n",
      "迭代结束-iter: 18  x: [-6.07549555e+11 -1.15651758e+07]  loss: 1.552191252985048e+68\n",
      "Time Consumption:  0.012243986129760742\n"
     ]
    }
   ],
   "source": [
    "print('### Wolfe ###')\n",
    "begin = time.time()\n",
    "DampedNewton(dbv.init_point(),dbv,Wolfe())\n",
    "end = time.time()\n",
    "print('Time Consumption: ',end - begin)"
   ]
  },
  {
   "cell_type": "code",
   "execution_count": 7,
   "id": "e1903fff-db42-4cc5-ba1f-b0c44486e341",
   "metadata": {},
   "outputs": [
    {
     "name": "stdout",
     "output_type": "stream",
     "text": [
      "### Strong Wolfe ###\n",
      "Warning: Hessian矩阵不可逆！\n",
      "迭代结束-iter: 18  x: [-6.07549555e+11 -1.15651758e+07]  loss: 1.552191252985048e+68\n",
      "Time Consumption:  0.014055013656616211\n"
     ]
    }
   ],
   "source": [
    "print('### Strong Wolfe ###')\n",
    "begin = time.time()\n",
    "DampedNewton(dbv.init_point(),dbv,StrongWolfe())\n",
    "end = time.time()\n",
    "print('Time Consumption: ',end - begin)"
   ]
  },
  {
   "cell_type": "markdown",
   "id": "e25ba004-269f-4074-b68a-92629d8c44e2",
   "metadata": {},
   "source": [
    "##### 1.3 Discrete Boundary Value (5 dimension)"
   ]
  },
  {
   "cell_type": "code",
   "execution_count": 8,
   "id": "bf9ca4b5-b759-421f-b80d-718ffb6d8704",
   "metadata": {},
   "outputs": [
    {
     "name": "stdout",
     "output_type": "stream",
     "text": [
      "### Goldstein ###\n",
      "Warning: Hessian矩阵不可逆！\n",
      "迭代结束-iter: 9  x: [  20.33954345   -3.20149727 -422.53735813 -112.21796325  650.03711123]  loss: 15888779839877.893\n",
      "Time Consumption:  0.014214038848876953\n"
     ]
    }
   ],
   "source": [
    "dbv = DiscreteBoundaryValue(5)\n",
    "print('### Goldstein ###')\n",
    "begin = time.time()\n",
    "DampedNewton(dbv.init_point(),dbv,Goldstein())\n",
    "end = time.time()\n",
    "print('Time Consumption: ',end - begin)"
   ]
  },
  {
   "cell_type": "code",
   "execution_count": 9,
   "id": "e82bb1cc-f28d-4b10-afc0-48a8ea7c447d",
   "metadata": {},
   "outputs": [
    {
     "name": "stdout",
     "output_type": "stream",
     "text": [
      "### Wolfe ###\n",
      "Warning: Hessian矩阵不可逆！\n",
      "迭代结束-iter: 9  x: [  20.33954345   -3.20149727 -422.53735813 -112.21796325  650.03711123]  loss: 15888779839877.893\n",
      "Time Consumption:  0.014165401458740234\n"
     ]
    }
   ],
   "source": [
    "print('### Wolfe ###')\n",
    "begin = time.time()\n",
    "DampedNewton(dbv.init_point(),dbv,Wolfe())\n",
    "end = time.time()\n",
    "print('Time Consumption: ',end - begin)"
   ]
  },
  {
   "cell_type": "code",
   "execution_count": 10,
   "id": "9991a800-a436-449c-9123-f711f2eb4393",
   "metadata": {},
   "outputs": [
    {
     "name": "stdout",
     "output_type": "stream",
     "text": [
      "### Strong Wolfe ###\n",
      "Warning: Hessian矩阵不可逆！\n",
      "迭代结束-iter: 9  x: [  20.33954345   -3.20149727 -422.53735813 -112.21796325  650.03711123]  loss: 15888779839877.893\n",
      "Time Consumption:  0.013999700546264648\n"
     ]
    }
   ],
   "source": [
    "print('### Strong Wolfe ###')\n",
    "begin = time.time()\n",
    "DampedNewton(dbv.init_point(),dbv,StrongWolfe())\n",
    "end = time.time()\n",
    "print('Time Consumption: ',end - begin)"
   ]
  },
  {
   "cell_type": "markdown",
   "id": "693eb69b-3278-47c1-b7d5-ff97aac5fc31",
   "metadata": {},
   "source": [
    "##### 1.4 Discrete Boundary Value (10 dimension)"
   ]
  },
  {
   "cell_type": "code",
   "execution_count": 11,
   "id": "c7800d64-60b6-4fce-a219-e4f105a52fb6",
   "metadata": {},
   "outputs": [
    {
     "name": "stdout",
     "output_type": "stream",
     "text": [
      "### Goldstein ###\n",
      "Warning: Hessian矩阵不可逆！\n",
      "迭代结束-iter: 8  x: [   273.03577174   -318.79766238    698.75182756   -324.31613194\n",
      "    176.201222     -399.46482776    333.71585835   -232.57754566\n",
      " -12091.69513813  -2186.50837798]  loss: 5.332345385085355e+19\n",
      "Time Consumption:  0.02046060562133789\n"
     ]
    }
   ],
   "source": [
    "dbv = DiscreteBoundaryValue(10)\n",
    "print('### Goldstein ###')\n",
    "begin = time.time()\n",
    "DampedNewton(dbv.init_point(),dbv,Goldstein())\n",
    "end = time.time()\n",
    "print('Time Consumption: ',end - begin)"
   ]
  },
  {
   "cell_type": "code",
   "execution_count": 12,
   "id": "876719a6-cda1-4e64-a84e-a6b41c365bb6",
   "metadata": {},
   "outputs": [
    {
     "name": "stdout",
     "output_type": "stream",
     "text": [
      "### Wolfe ###\n",
      "Warning: Hessian矩阵不可逆！\n",
      "迭代结束-iter: 8  x: [   273.03577174   -318.79766238    698.75182756   -324.31613194\n",
      "    176.201222     -399.46482776    333.71585835   -232.57754566\n",
      " -12091.69513813  -2186.50837798]  loss: 5.332345385085355e+19\n",
      "Time Consumption:  0.015334606170654297\n"
     ]
    }
   ],
   "source": [
    "print('### Wolfe ###')\n",
    "begin = time.time()\n",
    "DampedNewton(dbv.init_point(),dbv,Wolfe())\n",
    "end = time.time()\n",
    "print('Time Consumption: ',end - begin)"
   ]
  },
  {
   "cell_type": "code",
   "execution_count": 13,
   "id": "e8cb6ca7-dd84-432d-b9c6-c0117ff6076f",
   "metadata": {},
   "outputs": [
    {
     "name": "stdout",
     "output_type": "stream",
     "text": [
      "### Strong Wolfe ###\n",
      "Warning: Hessian矩阵不可逆！\n",
      "迭代结束-iter: 8  x: [   273.03577174   -318.79766238    698.75182756   -324.31613194\n",
      "    176.201222     -399.46482776    333.71585835   -232.57754566\n",
      " -12091.69513813  -2186.50837798]  loss: 5.332345385085355e+19\n",
      "Time Consumption:  0.020029067993164062\n"
     ]
    }
   ],
   "source": [
    "print('### Strong Wolfe ###')\n",
    "begin = time.time()\n",
    "DampedNewton(dbv.init_point(),dbv,StrongWolfe())\n",
    "end = time.time()\n",
    "print('Time Consumption: ',end - begin)"
   ]
  },
  {
   "cell_type": "markdown",
   "id": "3cf76484-472c-494a-9c34-0d63e34fc53c",
   "metadata": {},
   "source": [
    "- 分析 <br>\n",
    "选择需要通过线搜索确定步长的阻尼Newton法，比较不同线搜索方法的差异。<br/>\n",
    "Discrete Boundary Value函数含有一个超参数$m$，表示损失函数$r_i(x)$的数量，在上述模拟实验中，分别取$m$的值为2，3，5进行实验。结果显示，在不同的参数设定下，Goldstein，Wolfe和Strong Wolfe搜索方法都因为出现Hessian矩阵不可逆的情况而无法求出最优解，仅经过有限次的迭代就终止了搜索过程，且搜索停止时的损失函数极大，这是因为在线搜索没有搜索到理想的步长时，会默认地采用一个较小的步长进行更新，导致迭代可能沿着梯度上升的方向更新。<br/>\n",
    "同时随着参数$m$的增大，优化终止时的迭代次数减小。说明$m$的增加会使Discrete Boundary Value函数更容易出现矩阵奇异的情况。"
   ]
  },
  {
   "cell_type": "markdown",
   "id": "f0b748c7-ae05-426b-86cb-f5cb6252214d",
   "metadata": {},
   "source": [
    "##### 1.5结论"
   ]
  },
  {
   "cell_type": "markdown",
   "id": "30492c68-0154-498c-955b-38e2c3ff5777",
   "metadata": {},
   "source": [
    "在数值模拟中，Goldstein、Wolfe和Strong Wolfe三种步长搜索方法在减少优化迭代次数、降低优化所需时间方面所起的左右较为接近；在代码实现上，Strong Wolfe能比Wolfe准则精准地搜索步长，因此使搜索算法更快地收敛；但是三种算法都无法解决Hessian矩阵不可逆的情况。"
   ]
  },
  {
   "cell_type": "markdown",
   "id": "024d7258-0f8f-409a-9082-d4a8744c81c0",
   "metadata": {},
   "source": [
    "#### 不同搜索方法的比较"
   ]
  },
  {
   "cell_type": "code",
   "execution_count": 15,
   "id": "3d23a90a-984d-44f1-b9b3-edf5771685cb",
   "metadata": {},
   "outputs": [],
   "source": [
    "from module import *\n",
    "import time\n",
    "watson = Watson(31) \n",
    "dbv2 = DiscreteBoundaryValue(2)\n",
    "dbv5 = DiscreteBoundaryValue(5)\n",
    "dbv10 = DiscreteBoundaryValue(10)"
   ]
  },
  {
   "cell_type": "markdown",
   "id": "d8509e75-b831-4f54-8469-7e7930a15cc6",
   "metadata": {},
   "source": [
    "##### 1.Newton法"
   ]
  },
  {
   "cell_type": "code",
   "execution_count": 9,
   "id": "7abb1d7b-5b5b-4980-8c47-905629203978",
   "metadata": {},
   "outputs": [
    {
     "name": "stdout",
     "output_type": "stream",
     "text": [
      "### Watson ###\n",
      "迭代结束-iter: 407  x: [-0.60101559  1.0893466 ]  loss: 0.33219668614111714\n",
      "Time Consumption:  0.8028843402862549\n",
      "\n",
      "### Discrete Boundary Value ###\n",
      "Warning: Hessian矩阵非正定！\n",
      "\t iter: 3  x: [-6.20291648  7.44040953]  loss: 4664.522643235498\n",
      "Warning: Hessian矩阵非正定！\n",
      "\t iter: 4  x: [-146.13161878 -336.11948191]  loss: 4350424187912.7007\n",
      "Warning: Hessian矩阵不可逆！\n",
      "迭代结束-iter: 5  x: [-1.21859101e+07 -3.47516632e+08]  loss: 5.43636417539642e+48\n",
      "Time Consumption:  0.002142667770385742\n",
      "\n",
      "### Discrete Boundary Value ###\n",
      "Warning: Hessian矩阵非正定！\n",
      "\t iter: 3  x: [-2.32260613  2.10595278  0.012437   -2.88269929  3.13914358]  loss: 294.90204167395495\n",
      "Warning: Hessian矩阵不可逆！\n",
      "迭代结束-iter: 4  x: [-124.9148647   -29.29562094  -11.52446205 -107.55834866  -40.18913294]  loss: 982404486.6058675\n",
      "Time Consumption:  0.0029985904693603516\n",
      "\n",
      "### Discrete Boundary Value ###\n",
      "Warning: Hessian矩阵非正定！\n",
      "\t iter: 3  x: [-1.89264449  1.56074825 -0.62870692 -0.22415186 -0.238988   -0.23699629\n",
      " -0.21829215  0.39659942 -2.3532075   2.56053027]  loss: 200.50504409783764\n",
      "Warning: Hessian矩阵不可逆！\n",
      "迭代结束-iter: 4  x: [-340.19899138  -50.96878041  104.47802861  -22.10140267    2.55670762\n",
      "   -3.93334849   28.60809612  -64.45455978 -253.87255725  -47.68681508]  loss: 30627801986.64892\n",
      "Time Consumption:  0.004544496536254883\n"
     ]
    }
   ],
   "source": [
    "print('### Watson ###')\n",
    "begin = time.time()\n",
    "BasicNewton([0.,0.],watson)\n",
    "end = time.time()\n",
    "print('Time Consumption: ',end - begin)\n",
    "print()\n",
    "\n",
    "print('### Discrete Boundary Value ###')\n",
    "begin = time.time()\n",
    "BasicNewton(dbv2.init_point(),dbv2)\n",
    "end = time.time()\n",
    "print('Time Consumption: ',end - begin)\n",
    "print()\n",
    "\n",
    "begin = time.time()\n",
    "print('### Discrete Boundary Value ###')\n",
    "BasicNewton(dbv5.init_point(),dbv5)\n",
    "end = time.time()\n",
    "print('Time Consumption: ',end - begin)\n",
    "print()\n",
    "\n",
    "begin = time.time()\n",
    "print('### Discrete Boundary Value ###')\n",
    "BasicNewton(dbv10.init_point(),dbv10)\n",
    "end = time.time()\n",
    "print('Time Consumption: ',end - begin)"
   ]
  },
  {
   "cell_type": "markdown",
   "id": "7f0bcd6d-dff3-4d4f-b361-7a754a476c90",
   "metadata": {},
   "source": [
    "- 分析 <br>\n",
    "分四种情形讨论基本牛顿法的收敛性质。 <br>\n",
    "1.在Watson函数上，基本Newton法经过407次迭代，收敛到最优解，所用的CPU时间为0.8029s； <br>\n",
    "2.对Discrete Boundary Value函数，无论$m=2, 3, 5$时，Hessian矩阵都多次出现非正定的情况，最终都因为Hessian矩阵奇异，不可求逆而终止搜索过程。迭代终止时，所用的迭代次数分别为5、4、4，消耗的时间分别为0.002143s,0.002998s,0.004544。可以看出，随着超参数$m$的增加，需要计算的损失函数数量和梯度、二次倒数的次数也增加，因此消耗的CPU时间也相应增加。"
   ]
  },
  {
   "cell_type": "markdown",
   "id": "30dcefa7-2909-4344-8f4f-9ec1e95e870c",
   "metadata": {},
   "source": [
    "##### 2.SR1方法"
   ]
  },
  {
   "cell_type": "code",
   "execution_count": 16,
   "id": "87528c65-f53e-44a1-871b-aceb1a9b3a0f",
   "metadata": {},
   "outputs": [
    {
     "name": "stdout",
     "output_type": "stream",
     "text": [
      "### Watson ###\n",
      "迭代结束-iter: 1000  x: [-0.76525263  1.2404707 ]  loss: 0.8860144037258358\n",
      "Time Consumption:  3.144169569015503\n",
      "\n",
      "### Discrete Boundary Value ###\n",
      "Warning:Hessian矩阵非正定导致溢出！\n",
      "迭代结束-iter: 655  x: [16920.292151    2782.56039842]  loss: 7.2462978293696435e+22\n",
      "Time Consumption:  0.26785969734191895\n",
      "\n",
      "### Discrete Boundary Value ###\n",
      "Warning:Hessian矩阵非正定导致溢出！\n",
      "迭代结束-iter: 6  x: [-2682044.01288278  2180271.80911787   131237.97208718 -2473178.05455994\n",
      "  3133879.10176736]  loss: 3.1940314726501953e+35\n",
      "Time Consumption:  0.006284236907958984\n",
      "\n",
      "### Discrete Boundary Value ###\n",
      "Warning:Hessian矩阵非正定导致溢出！\n",
      "迭代结束-iter: 5  x: [-12934047.04589452  10314560.92586945  -2073906.3211809\n",
      "   -276260.11741359     63020.53906735    -31474.56269032\n",
      "    417719.0279904    2826205.65226695 -13426665.78608871\n",
      "  16743602.51989637]  loss: 5.767938799420222e+38\n",
      "Time Consumption:  0.010005474090576172\n"
     ]
    }
   ],
   "source": [
    "print('### Watson ###')\n",
    "begin = time.time()\n",
    "SR1([0.,0.],watson)\n",
    "end = time.time()\n",
    "print('Time Consumption: ',end - begin)\n",
    "print()\n",
    "\n",
    "print('### Discrete Boundary Value ###')\n",
    "begin = time.time()\n",
    "SR1(dbv2.init_point(),dbv2)\n",
    "end = time.time()\n",
    "print('Time Consumption: ',end - begin)\n",
    "print()\n",
    "\n",
    "begin = time.time()\n",
    "print('### Discrete Boundary Value ###')\n",
    "SR1(dbv5.init_point(),dbv5)\n",
    "end = time.time()\n",
    "print('Time Consumption: ',end - begin)\n",
    "print()\n",
    "\n",
    "begin = time.time()\n",
    "print('### Discrete Boundary Value ###')\n",
    "SR1(dbv10.init_point(),dbv10)\n",
    "end = time.time()\n",
    "print('Time Consumption: ',end - begin)"
   ]
  },
  {
   "cell_type": "markdown",
   "id": "9aa51513-faa4-46e7-927c-33a800890d1f",
   "metadata": {},
   "source": [
    "- 分析 <br>\n",
    "分四种情形讨论SR1法的收敛性质。 <br>\n",
    "1.在Watson函数上，基本Newton法经过1000次迭代，也没有收敛到最优解。消耗的CPU时间为3.1442s，迭代终止时损失函数的值为0.8860。\n",
    "2.在Discrete Boundary Value函数上，$m=2, 5, 10$三种情形都因为损失函数值过大出现溢出而终止。这说明SR1方法作为一阶的Hessian举证更新方法，并不能够保证迭代过程中Hessian矩阵的正定性。这三种情形下的迭代次数依次为655, 6, 5；消耗的CPU时间依次为0.2678s, 0.006284s, 0.010005s。随着$m$的增加，discrete boundary value函数更容易出现损失函数值溢出的情况，因此$m=2$时函数终止所用的迭代次数和CPU时间最多。而在$m=5或10$时，由于后者需要计算的损失函数数量和梯度、二阶导数的次数更多，因此所用的时间更长。"
   ]
  },
  {
   "cell_type": "markdown",
   "id": "aeea0e20-d392-4769-bc14-71199b0f86db",
   "metadata": {},
   "source": [
    "##### 3.DFP方法 "
   ]
  },
  {
   "cell_type": "code",
   "execution_count": 14,
   "id": "9c00beac-9c32-4967-ab0d-cb4942d9608e",
   "metadata": {},
   "outputs": [
    {
     "name": "stdout",
     "output_type": "stream",
     "text": [
      "### Watson ###\n",
      "迭代结束-iter: 28  x: [-0.60101948  1.0893478 ]  loss: 0.3321966859497136\n",
      "Time Consumption:  0.18523764610290527\n",
      "\n",
      "### Discrete Boundary Value ###\n",
      "迭代结束-iter: 8  x: [-0.12824676 -0.15926759]  loss: 3.694044736577643e-15\n",
      "Time Consumption:  0.0049326419830322266\n",
      "\n",
      "### Discrete Boundary Value ###\n",
      "迭代结束-iter: 10  x: [-0.07503015 -0.13198611 -0.16485803 -0.16467292 -0.11742331]  loss: 7.331027265892723e-11\n",
      "Time Consumption:  0.011516809463500977\n",
      "\n",
      "### Discrete Boundary Value ###\n",
      "Warning:Hessian矩阵奇异！\n",
      "\t iter: 9  x: [-0.06215008 -0.12012163 -0.17246142 -0.21067199 -0.23328838 -0.24205562\n",
      " -0.23629715 -0.21243424 -0.16692995 -0.09865159]  loss: 0.00037994452224853343\n",
      "迭代结束-iter: 9  x: [-0.06215008 -0.12012163 -0.17246142 -0.21067199 -0.23328838 -0.24205562\n",
      " -0.23629715 -0.21243424 -0.16692995 -0.09865159]  loss: 0.00037994452224853343\n",
      "Time Consumption:  0.017140865325927734\n"
     ]
    }
   ],
   "source": [
    "print('### Watson ###')\n",
    "begin = time.time()\n",
    "DFP([0.,0.],watson)\n",
    "end = time.time()\n",
    "print('Time Consumption: ',end - begin)\n",
    "print()\n",
    "\n",
    "print('### Discrete Boundary Value ###')\n",
    "begin = time.time()\n",
    "DFP(dbv2.init_point(),dbv2)\n",
    "end = time.time()\n",
    "print('Time Consumption: ',end - begin)\n",
    "print()\n",
    "\n",
    "begin = time.time()\n",
    "print('### Discrete Boundary Value ###')\n",
    "DFP(dbv5.init_point(),dbv5)\n",
    "end = time.time()\n",
    "print('Time Consumption: ',end - begin)\n",
    "print()\n",
    "\n",
    "begin = time.time()\n",
    "print('### Discrete Boundary Value ###')\n",
    "DFP(dbv10.init_point(),dbv10)\n",
    "end = time.time()\n",
    "print('Time Consumption: ',end - begin)"
   ]
  },
  {
   "cell_type": "markdown",
   "id": "6c470255-df5c-479c-8d57-b9d00aac40ac",
   "metadata": {},
   "source": [
    "- 分析<br>\n",
    "分四种情形讨论DFP法的收敛性质。 <br>\n",
    "1.在Watson函数上，DFP方法经过28次迭代，收敛到最优解，所用的CPU时间为0.1852s; <br>\n",
    "2.在Discrete Boundary Value函数上，$m=2$时，DFP方法经过8次迭代收敛到最优解，所用的时间为0.004933s；$m=5$时DFP方法经过10次迭代收敛到最优解，所用的时间为0.01152s；$m=10$时DFP因为碰到Hessian矩阵非奇异的情况，因此经过9次迭代后终止，所用的时间为0.01714s。<br>\n",
    "DFP方法的收敛性质和收敛效率明显好于SR1方法，但是依然存在遇到奇异矩阵而无法收敛的问题。"
   ]
  },
  {
   "cell_type": "markdown",
   "id": "6709cfae-c108-4a63-af43-fa6ab718b17a",
   "metadata": {},
   "source": [
    "##### 4.BFGS方法"
   ]
  },
  {
   "cell_type": "code",
   "execution_count": 15,
   "id": "1787f611-4592-4494-b495-f608b91f9e9c",
   "metadata": {},
   "outputs": [
    {
     "name": "stdout",
     "output_type": "stream",
     "text": [
      "### Watson ###\n",
      "迭代结束-iter: 12  x: [-0.60102038  1.0893482 ]  loss: 0.3321966859602461\n",
      "Time Consumption:  0.10546350479125977\n",
      "\n",
      "### Discrete Boundary Value ###\n",
      "迭代结束-iter: 5  x: [-0.12825474 -0.15927639]  loss: 2.5141912240305507e-10\n",
      "Time Consumption:  0.0059108734130859375\n",
      "\n",
      "### Discrete Boundary Value ###\n",
      "迭代结束-iter: 12  x: [-0.07502282 -0.13198137 -0.1648639  -0.16468787 -0.11744043]  loss: 7.970154933735613e-10\n",
      "Time Consumption:  0.014647722244262695\n",
      "\n",
      "### Discrete Boundary Value ###\n",
      "迭代结束-iter: 16  x: [-0.04316505 -0.08157733 -0.11448602 -0.14097398 -0.15990917 -0.16987767\n",
      " -0.16909036 -0.15524982 -0.12535605 -0.07541659]  loss: 2.443100744443053e-14\n",
      "Time Consumption:  0.03131747245788574\n"
     ]
    }
   ],
   "source": [
    "print('### Watson ###')\n",
    "begin = time.time()\n",
    "BFGS([0.,0.],watson)\n",
    "end = time.time()\n",
    "print('Time Consumption: ',end - begin)\n",
    "print()\n",
    "\n",
    "print('### Discrete Boundary Value ###')\n",
    "begin = time.time()\n",
    "BFGS(dbv2.init_point(),dbv2)\n",
    "end = time.time()\n",
    "print('Time Consumption: ',end - begin)\n",
    "print()\n",
    "\n",
    "begin = time.time()\n",
    "print('### Discrete Boundary Value ###')\n",
    "BFGS(dbv5.init_point(),dbv5)\n",
    "end = time.time()\n",
    "print('Time Consumption: ',end - begin)\n",
    "print()\n",
    "\n",
    "begin = time.time()\n",
    "print('### Discrete Boundary Value ###')\n",
    "BFGS(dbv10.init_point(),dbv10)\n",
    "end = time.time()\n",
    "print('Time Consumption: ',end - begin)"
   ]
  },
  {
   "cell_type": "markdown",
   "id": "11f535e0-a755-47d5-86ef-61730e8afe64",
   "metadata": {},
   "source": [
    "- 分析<br>\n",
    "分四种情形讨论BFGS法的收敛性质。 <br>\n",
    "1.在Watson函数上，DFP方法经过12次迭代，收敛到最优解，所用的CPU时间为0.1054s，优于DFP方法；<br>\n",
    "2.在Discrete Boundary Value函数上，$m=2$时，BFGS方法经过5次迭代收敛到最优解，所用的时间为0.00591s；$m=5$时BFGS方法经过12次迭代收敛到最优解，所用的时间为0.01464s；$m=10$时BFGS方法经过16次迭代收敛，所用的时间为0.03132s。可以看出随着$m$的增大，BFGS方法收敛所用的迭代次数和CPU时间都有所增加。<br>\n",
    "相比之下，BFGS方法的表现效果要由于DFP方法，因为前者能保证Hessian矩阵可逆，使矩阵更可能收敛到函数的最优值；而且在算法都收敛的情况下，所用的CPU时间大致相同。"
   ]
  },
  {
   "cell_type": "markdown",
   "id": "0b330265-c25e-4410-921c-44cf76b06561",
   "metadata": {},
   "source": [
    "##### 5.Broyden族函数"
   ]
  },
  {
   "cell_type": "code",
   "execution_count": 16,
   "id": "7db95c20-81a1-487a-8d28-8e3c4c012870",
   "metadata": {},
   "outputs": [
    {
     "name": "stdout",
     "output_type": "stream",
     "text": [
      "### Watson ###\n",
      "Warning:Hessian矩阵奇异！\n",
      "迭代结束-iter: 16  x: [-259.65076274   38.42027132]  loss: 101578810601.45082\n",
      "Time Consumption:  0.11752080917358398\n",
      "\n",
      "### Discrete Boundary Value ###\n",
      "Warning:Hessian矩阵奇异！\n",
      "迭代结束-iter: 51  x: [64.29928772 -7.62758371]  loss: 251008701.0968382\n",
      "Time Consumption:  0.02646160125732422\n",
      "\n",
      "### Discrete Boundary Value ###\n",
      "Warning:Hessian矩阵奇异！\n",
      "迭代结束-iter: 20  x: [1.60687343 4.35466723 5.76036236 6.95681846 4.09284917]  loss: 231.54660194448942\n",
      "Time Consumption:  0.018126249313354492\n",
      "\n",
      "### Discrete Boundary Value ###\n",
      "Warning:Hessian矩阵奇异！\n",
      "迭代结束-iter: 36  x: [ 18.24554722  25.32968835   6.94402696  -6.71116799 -36.26261295\n",
      " -40.55317937 -19.2532492   28.23269303  62.73701205  53.62718136]  loss: 2044067.3888920862\n",
      "Time Consumption:  0.05665946006774902\n"
     ]
    }
   ],
   "source": [
    "## phi=0.5\n",
    "print('### Watson ###')\n",
    "begin = time.time()\n",
    "Broyden([0.,0.],watson,0.5)\n",
    "end = time.time()\n",
    "print('Time Consumption: ',end - begin)\n",
    "print()\n",
    "\n",
    "print('### Discrete Boundary Value ###')\n",
    "begin = time.time()\n",
    "Broyden(dbv2.init_point(),dbv2,0.5)\n",
    "end = time.time()\n",
    "print('Time Consumption: ',end - begin)\n",
    "print()\n",
    "\n",
    "begin = time.time()\n",
    "print('### Discrete Boundary Value ###')\n",
    "Broyden(dbv5.init_point(),dbv5,0.5)\n",
    "end = time.time()\n",
    "print('Time Consumption: ',end - begin)\n",
    "print()\n",
    "\n",
    "begin = time.time()\n",
    "print('### Discrete Boundary Value ###')\n",
    "Broyden(dbv10.init_point(),dbv10,0.5)\n",
    "end = time.time()\n",
    "print('Time Consumption: ',end - begin)"
   ]
  },
  {
   "cell_type": "code",
   "execution_count": 17,
   "id": "ff54cbd0-57b9-4cab-a3b9-8abced1417e5",
   "metadata": {},
   "outputs": [
    {
     "name": "stdout",
     "output_type": "stream",
     "text": [
      "### Watson ###\n",
      "Warning:Hessian矩阵奇异！\n",
      "迭代结束-iter: 86  x: [-93.08163314  34.41050451]  loss: 1038601986.4006084\n",
      "Time Consumption:  0.3903796672821045\n",
      "\n",
      "### Discrete Boundary Value ###\n",
      "Warning:Hessian矩阵奇异！\n",
      "迭代结束-iter: 55  x: [1254.33865678  873.42081044]  loss: 1.348436061573599e+16\n",
      "Time Consumption:  0.025806903839111328\n",
      "\n",
      "### Discrete Boundary Value ###\n",
      "Warning:Hessian矩阵奇异！\n",
      "迭代结束-iter: 42  x: [-187.07643939 -238.74591732 -323.6024834  -426.72725759 -346.89047068]  loss: 1721953585438.9329\n",
      "Time Consumption:  0.04006338119506836\n",
      "\n",
      "### Discrete Boundary Value ###\n",
      "Warning:Hessian矩阵奇异！\n",
      "迭代结束-iter: 110  x: [ 8.05278424 21.00903983 25.1305864  38.35339331 50.4769221  49.39062336\n",
      " -0.52863609 -3.28297318  4.2043682  12.88469172]  loss: 782868.3339657588\n",
      "Time Consumption:  0.16328907012939453\n"
     ]
    }
   ],
   "source": [
    "## phi=0.1\n",
    "print('### Watson ###')\n",
    "begin = time.time()\n",
    "Broyden([0.,0.],watson,0.1)\n",
    "end = time.time()\n",
    "print('Time Consumption: ',end - begin)\n",
    "print()\n",
    "\n",
    "print('### Discrete Boundary Value ###')\n",
    "begin = time.time()\n",
    "Broyden(dbv2.init_point(),dbv2,0.1)\n",
    "end = time.time()\n",
    "print('Time Consumption: ',end - begin)\n",
    "print()\n",
    "\n",
    "begin = time.time()\n",
    "print('### Discrete Boundary Value ###')\n",
    "Broyden(dbv5.init_point(),dbv5,0.1)\n",
    "end = time.time()\n",
    "print('Time Consumption: ',end - begin)\n",
    "print()\n",
    "\n",
    "begin = time.time()\n",
    "print('### Discrete Boundary Value ###')\n",
    "Broyden(dbv10.init_point(),dbv10,0.1)\n",
    "end = time.time()\n",
    "print('Time Consumption: ',end - begin)"
   ]
  },
  {
   "cell_type": "code",
   "execution_count": 18,
   "id": "5a4e6675-44ee-4b68-84ae-e54e1a45b157",
   "metadata": {},
   "outputs": [
    {
     "name": "stdout",
     "output_type": "stream",
     "text": [
      "### Watson ###\n",
      "Warning:Hessian矩阵奇异！\n",
      "迭代结束-iter: 4  x: [-192.61212094  746.05585829]  loss: 695221269007.1653\n",
      "Time Consumption:  0.03171658515930176\n",
      "\n",
      "### Discrete Boundary Value ###\n",
      "Warning:Hessian矩阵奇异！\n",
      "迭代结束-iter: 30  x: [ -8.15615378 -18.90711524]  loss: 99041.61723454553\n",
      "Time Consumption:  0.023681640625\n",
      "\n",
      "### Discrete Boundary Value ###\n",
      "Warning:Hessian矩阵奇异！\n",
      "迭代结束-iter: 7  x: [-104661.78154525  -43171.81247471   -7685.30683773  178058.63041725\n",
      "   39210.63973064]  loss: 6.40353569290962e+27\n",
      "Time Consumption:  0.010741472244262695\n",
      "\n",
      "### Discrete Boundary Value ###\n",
      "Warning:Hessian矩阵奇异！\n",
      "迭代结束-iter: 7  x: [ 8324.11341248  3919.99477566 -1406.35753314    36.83660907\n",
      "   181.89307968   190.02227782   382.19208267  2270.33531789\n",
      "  1177.93952441 -1607.1664745 ]  loss: 5.750055874737652e+18\n",
      "Time Consumption:  0.016606807708740234\n"
     ]
    }
   ],
   "source": [
    "## phi=0.9\n",
    "print('### Watson ###')\n",
    "begin = time.time()\n",
    "Broyden([0.,0.],watson,0.9)\n",
    "end = time.time()\n",
    "print('Time Consumption: ',end - begin)\n",
    "print()\n",
    "\n",
    "print('### Discrete Boundary Value ###')\n",
    "begin = time.time()\n",
    "Broyden(dbv2.init_point(),dbv2,0.9)\n",
    "end = time.time()\n",
    "print('Time Consumption: ',end - begin)\n",
    "print()\n",
    "\n",
    "begin = time.time()\n",
    "print('### Discrete Boundary Value ###')\n",
    "Broyden(dbv5.init_point(),dbv5,0.9)\n",
    "end = time.time()\n",
    "print('Time Consumption: ',end - begin)\n",
    "print()\n",
    "\n",
    "begin = time.time()\n",
    "print('### Discrete Boundary Value ###')\n",
    "Broyden(dbv10.init_point(),dbv10,0.9)\n",
    "end = time.time()\n",
    "print('Time Consumption: ',end - begin)"
   ]
  },
  {
   "cell_type": "code",
   "execution_count": 19,
   "id": "94d173c7-9764-4bb8-bea9-88db8ed66743",
   "metadata": {},
   "outputs": [
    {
     "name": "stdout",
     "output_type": "stream",
     "text": [
      "### Watson ###\n",
      "迭代结束-iter: 23  x: [-0.60101764  1.08934762]  loss: 0.33219668599682184\n",
      "Time Consumption:  0.1679084300994873\n",
      "\n",
      "### Discrete Boundary Value ###\n",
      "迭代结束-iter: 7  x: [-0.12823791 -0.15926243]  loss: 2.2798490551110224e-10\n",
      "Time Consumption:  0.005368471145629883\n",
      "\n",
      "### Discrete Boundary Value ###\n",
      "迭代结束-iter: 11  x: [-0.07502795 -0.13198408 -0.16485667 -0.1646716  -0.11742215]  loss: 3.650640137356127e-11\n",
      "Time Consumption:  0.011769533157348633\n",
      "\n",
      "### Discrete Boundary Value ###\n",
      "迭代结束-iter: 16  x: [-0.04308268 -0.08141647 -0.11425574 -0.14069061 -0.15959644 -0.16956408\n",
      " -0.16880491 -0.15501731 -0.12519377 -0.07533374]  loss: 5.851113533280999e-09\n",
      "Time Consumption:  0.032514333724975586\n"
     ]
    }
   ],
   "source": [
    "## phi=0.0\n",
    "print('### Watson ###')\n",
    "begin = time.time()\n",
    "Broyden([0.,0.],watson,0.)\n",
    "end = time.time()\n",
    "print('Time Consumption: ',end - begin)\n",
    "print()\n",
    "\n",
    "print('### Discrete Boundary Value ###')\n",
    "begin = time.time()\n",
    "Broyden(dbv2.init_point(),dbv2,0.)\n",
    "end = time.time()\n",
    "print('Time Consumption: ',end - begin)\n",
    "print()\n",
    "\n",
    "begin = time.time()\n",
    "print('### Discrete Boundary Value ###')\n",
    "Broyden(dbv5.init_point(),dbv5,0.)\n",
    "end = time.time()\n",
    "print('Time Consumption: ',end - begin)\n",
    "print()\n",
    "\n",
    "begin = time.time()\n",
    "print('### Discrete Boundary Value ###')\n",
    "Broyden(dbv10.init_point(),dbv10,0.)\n",
    "end = time.time()\n",
    "print('Time Consumption: ',end - begin)"
   ]
  },
  {
   "cell_type": "code",
   "execution_count": 20,
   "id": "06438ffe-12d7-430c-85ac-45d93cc30734",
   "metadata": {},
   "outputs": [
    {
     "name": "stdout",
     "output_type": "stream",
     "text": [
      "### Watson ###\n",
      "Warning:Hessian矩阵奇异！\n",
      "迭代结束-iter: 2  x: [-0.05491552  0.63792667]  loss: 7.8739368366206435\n",
      "Time Consumption:  0.013666868209838867\n",
      "\n",
      "### Discrete Boundary Value ###\n",
      "Warning:Hessian矩阵奇异！\n",
      "迭代结束-iter: 8  x: [1481.73251216 -220.86020593]  loss: 3.2842590750799864e+16\n",
      "Time Consumption:  0.0099029541015625\n",
      "\n",
      "### Discrete Boundary Value ###\n",
      "Warning:Hessian矩阵奇异！\n",
      "迭代结束-iter: 5  x: [ 340.67120039  694.46611472  255.26488409 -376.2811801  -155.57227106]  loss: 22797176605673.746\n",
      "Time Consumption:  0.008309125900268555\n",
      "\n",
      "### Discrete Boundary Value ###\n",
      "Warning:Hessian矩阵奇异！\n",
      "迭代结束-iter: 5  x: [ 160.72603279  497.21879632  -91.04668164   35.53651426   43.89322951\n",
      "   53.60106357   64.63295191  235.75485997 -530.05211718 -144.02844344]  loss: 638652337233.7291\n",
      "Time Consumption:  0.013636589050292969\n"
     ]
    }
   ],
   "source": [
    "## phi=1.0\n",
    "print('### Watson ###')\n",
    "begin = time.time()\n",
    "Broyden([0.,0.],watson,1.)\n",
    "end = time.time()\n",
    "print('Time Consumption: ',end - begin)\n",
    "print()\n",
    "\n",
    "print('### Discrete Boundary Value ###')\n",
    "begin = time.time()\n",
    "Broyden(dbv2.init_point(),dbv2,1.)\n",
    "end = time.time()\n",
    "print('Time Consumption: ',end - begin)\n",
    "print()\n",
    "\n",
    "begin = time.time()\n",
    "print('### Discrete Boundary Value ###')\n",
    "Broyden(dbv5.init_point(),dbv5,1.)\n",
    "end = time.time()\n",
    "print('Time Consumption: ',end - begin)\n",
    "print()\n",
    "\n",
    "begin = time.time()\n",
    "print('### Discrete Boundary Value ###')\n",
    "Broyden(dbv10.init_point(),dbv10,1.)\n",
    "end = time.time()\n",
    "print('Time Consumption: ',end - begin)"
   ]
  },
  {
   "cell_type": "markdown",
   "id": "23128b67-edad-4b08-a7f4-c22e9d7977f6",
   "metadata": {},
   "source": [
    "- 分析<br>\n",
    "对Broyden函数族，对$\\phi$取不同值的情况下对算法的收敛性进行讨论。<br>\n",
    "1.在$\\phi$依次取0.1, 0.5, 0.9和1.0时，算法都因为Hessian矩阵奇异而提前终止，没有收敛到最优值；<br>\n",
    "2.而当$\\phi=0.0$时，实际上执行的是BFGS方法。四种情形下算法都收敛。在Watson函数上，broyden方法经过23次迭代，消耗0.1679s的CPU时间收敛，在discrete boundary value($m=2$)函数上，方法经过7次迭代，消耗0.005368s的CPU时间收敛；在discrete boundary value($m=5$)函数上，方法经过11次迭代，消耗0.01176s的CPU时间收敛；在discrete boundary value($m=10$)函数上，方法经过16次迭代，消耗0.03251s的CPU时间收敛。"
   ]
  },
  {
   "cell_type": "markdown",
   "id": "e22076db-ed13-495a-8c23-471a08152696",
   "metadata": {},
   "source": [
    "- 总结<br>\n",
    "1.Newton方法由于需要计算Hessian矩阵的逆，因此相比于拟牛顿方法需要消耗的CPU时间更多，而且对Hessian奇异的情况无能为力；<br>\n",
    "2.SR1方法，作为1阶的逆牛顿方法，有可能出现Hessian矩阵正定或奇异的情况，到时算法无法向损失函数下降的方向进行更行，甚至不得不提前终止。<br>\n",
    "3.DFP和BFGD方法作为2阶逆牛顿方法，在求解效率上明显好于SR1方法。但是相比之下，BFGS算法由于存在自校正性质，故表现性能会好于DFP方法。\n",
    "4.broyden函数族在参数$\\phi=0.$是实际上退化为BFGS方法,在$\\phi=1.0$是退化为DFP方法。"
   ]
  }
 ],
 "metadata": {
  "kernelspec": {
   "display_name": "Python 3",
   "language": "python",
   "name": "python3"
  },
  "language_info": {
   "codemirror_mode": {
    "name": "ipython",
    "version": 3
   },
   "file_extension": ".py",
   "mimetype": "text/x-python",
   "name": "python",
   "nbconvert_exporter": "python",
   "pygments_lexer": "ipython3",
   "version": "3.6.13"
  }
 },
 "nbformat": 4,
 "nbformat_minor": 5
}
